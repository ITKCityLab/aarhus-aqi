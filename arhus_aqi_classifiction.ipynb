{
  "cells": [
    {
      "cell_type": "markdown",
      "metadata": {
        "id": "view-in-github",
        "colab_type": "text"
      },
      "source": [
        "<a href=\"https://colab.research.google.com/github/nussarafirn/aarhus-aqi/blob/main/arhus_aqi_classifiction.ipynb\" target=\"_parent\"><img src=\"https://colab.research.google.com/assets/colab-badge.svg\" alt=\"Open In Colab\"/></a>"
      ]
    },
    {
      "cell_type": "markdown",
      "source": [
        "## A Deep Learning model for air quality slassification and prediction. The model uses OneVsOneClassifier method. "
      ],
      "metadata": {
        "id": "7tz_FQTKlyz-"
      },
      "id": "7tz_FQTKlyz-"
    },
    {
      "cell_type": "code",
      "execution_count": null,
      "id": "2f0331ba-5975-43bb-b262-f47002b33f7c",
      "metadata": {
        "id": "2f0331ba-5975-43bb-b262-f47002b33f7c"
      },
      "outputs": [],
      "source": [
        "import os\n",
        "import json\n",
        "import numpy as np\n",
        "from sklearn.neural_network import MLPClassifier\n",
        "from sklearn.multiclass import OneVsRestClassifier, OneVsOneClassifier, OutputCodeClassifier\n",
        "from sklearn.metrics import confusion_matrix\n",
        "from sklearn.svm import LinearSVC\n",
        "from sklearn.model_selection import train_test_split\n",
        "import altair as alt"
      ]
    },
    {
      "cell_type": "code",
      "execution_count": null,
      "id": "a0ab113a-96e2-4a5d-9467-0612493a0d10",
      "metadata": {
        "id": "a0ab113a-96e2-4a5d-9467-0612493a0d10"
      },
      "outputs": [],
      "source": [
        "data_dir = 'dataset/larger'"
      ]
    },
    {
      "cell_type": "code",
      "execution_count": null,
      "id": "b22a8be9-5ff6-4776-acaa-d9f97007134a",
      "metadata": {
        "id": "b22a8be9-5ff6-4776-acaa-d9f97007134a",
        "outputId": "8d8d4add-b3a4-40ae-9ca2-978cdb5c9421"
      },
      "outputs": [
        {
          "data": {
            "text/plain": [
              "(12185, 8)"
            ]
          },
          "execution_count": 3,
          "metadata": {},
          "output_type": "execute_result"
        }
      ],
      "source": [
        "with open(os.path.join(data_dir, 'dataset_x.json'), 'r') as f:\n",
        "    X = np.array(json.load(f))\n",
        "X.shape"
      ]
    },
    {
      "cell_type": "code",
      "execution_count": null,
      "id": "cf81b562-e77a-470e-9ea6-c41c37515a5f",
      "metadata": {
        "id": "cf81b562-e77a-470e-9ea6-c41c37515a5f",
        "outputId": "367ace65-622c-4f61-f00c-f67513039f51"
      },
      "outputs": [
        {
          "name": "stdout",
          "output_type": "stream",
          "text": [
            "[0, 492, 283, 788, 1139, 9483]\n",
            "[5 5 5 ... 5 5 5]\n"
          ]
        }
      ],
      "source": [
        "with open(os.path.join(data_dir, 'dataset_y.json'), 'r') as f:\n",
        "    _y = [l.index(1) for l in json.load(f)]\n",
        "    y = np.array([i for i in _y])\n",
        "    # y = np.array([i[0] * 24 >= 75 for i in json.load(f)])\n",
        "count = [0,0,0,0,0,0]\n",
        "for i in y:\n",
        "    count[i] += 1\n",
        "print(count)\n",
        "print(y)"
      ]
    },
    {
      "cell_type": "code",
      "execution_count": null,
      "id": "73196f44-da57-44d1-8f52-370d35ad9002",
      "metadata": {
        "id": "73196f44-da57-44d1-8f52-370d35ad9002"
      },
      "outputs": [],
      "source": [
        "category = [\n",
        "    \"good\",\n",
        "    \"fair\",\n",
        "    \"moderate\",\n",
        "    \"poor\",\n",
        "    \"very poor\",\n",
        "    \"extremely poor\",\n",
        "]"
      ]
    },
    {
      "cell_type": "code",
      "execution_count": null,
      "id": "94b215bc-248f-4248-b9b5-7c3118285399",
      "metadata": {
        "id": "94b215bc-248f-4248-b9b5-7c3118285399"
      },
      "outputs": [],
      "source": [
        "def dist_chart(data):\n",
        "    return alt.Chart.from_dict({\n",
        "        \"width\": 600,\n",
        "        \"height\": 300,\n",
        "        \"title\": \"Distribution of the data points for each air quality category\",\n",
        "        \"data\": {\n",
        "            \"values\": [{\"num_points\": c, \"category\": category[i]} for i, c in enumerate(data)]\n",
        "        },\n",
        "        \"encoding\": {\n",
        "            \"x\": {\"field\": \"num_points\", \"type\": \"quantitative\", \"title\": \"Number of data points\"},\n",
        "            \"y\": {\"field\": \"category\", \"type\": \"nominal\", \"sort\": None, \"title\": \"Category\"},\n",
        "        },\n",
        "        \"layer\": [\n",
        "            {\"mark\": \"bar\"},\n",
        "            {\n",
        "                \"mark\": {\"type\": \"text\", \"dx\": 2, \"align\": \"left\"},\n",
        "                \"encoding\": {\n",
        "                    \"text\": {\"field\": \"num_points\", \"type\": \"quantitative\"}\n",
        "                }\n",
        "            }\n",
        "        ]\n",
        "    })"
      ]
    },
    {
      "cell_type": "markdown",
      "source": [
        "### Distribution of the air quality from Jan 1, 2021 until June 16, 2022. \n",
        "\n",
        "We can notice here that the data is very skewed. From the total of 12,185 hours, Århus unfortunately have experienced 9,483 hours of extremely poor air quality. "
      ],
      "metadata": {
        "id": "qmJjag8JFLN5"
      },
      "id": "qmJjag8JFLN5"
    },
    {
      "cell_type": "markdown",
      "source": [
        "The distribution of the data after random dropped some data points to reduce the skewness. "
      ],
      "metadata": {
        "id": "JMDsnDTfF42O"
      },
      "id": "JMDsnDTfF42O"
    },
    {
      "cell_type": "code",
      "execution_count": null,
      "id": "cecb9a54-7ba0-42e6-a91c-e675c919f47f",
      "metadata": {
        "id": "cecb9a54-7ba0-42e6-a91c-e675c919f47f",
        "outputId": "c3ba238c-09e2-40dc-dd85-12739c0e63a8"
      },
      "outputs": [
        {
          "data": {
            "text/html": [
              "\n",
              "<div id=\"altair-viz-a2fa57737816459699d8f34d90df235b\"></div>\n",
              "<script type=\"text/javascript\">\n",
              "  var VEGA_DEBUG = (typeof VEGA_DEBUG == \"undefined\") ? {} : VEGA_DEBUG;\n",
              "  (function(spec, embedOpt){\n",
              "    let outputDiv = document.currentScript.previousElementSibling;\n",
              "    if (outputDiv.id !== \"altair-viz-a2fa57737816459699d8f34d90df235b\") {\n",
              "      outputDiv = document.getElementById(\"altair-viz-a2fa57737816459699d8f34d90df235b\");\n",
              "    }\n",
              "    const paths = {\n",
              "      \"vega\": \"https://cdn.jsdelivr.net/npm//vega@5?noext\",\n",
              "      \"vega-lib\": \"https://cdn.jsdelivr.net/npm//vega-lib?noext\",\n",
              "      \"vega-lite\": \"https://cdn.jsdelivr.net/npm//vega-lite@4.17.0?noext\",\n",
              "      \"vega-embed\": \"https://cdn.jsdelivr.net/npm//vega-embed@6?noext\",\n",
              "    };\n",
              "\n",
              "    function maybeLoadScript(lib, version) {\n",
              "      var key = `${lib.replace(\"-\", \"\")}_version`;\n",
              "      return (VEGA_DEBUG[key] == version) ?\n",
              "        Promise.resolve(paths[lib]) :\n",
              "        new Promise(function(resolve, reject) {\n",
              "          var s = document.createElement('script');\n",
              "          document.getElementsByTagName(\"head\")[0].appendChild(s);\n",
              "          s.async = true;\n",
              "          s.onload = () => {\n",
              "            VEGA_DEBUG[key] = version;\n",
              "            return resolve(paths[lib]);\n",
              "          };\n",
              "          s.onerror = () => reject(`Error loading script: ${paths[lib]}`);\n",
              "          s.src = paths[lib];\n",
              "        });\n",
              "    }\n",
              "\n",
              "    function showError(err) {\n",
              "      outputDiv.innerHTML = `<div class=\"error\" style=\"color:red;\">${err}</div>`;\n",
              "      throw err;\n",
              "    }\n",
              "\n",
              "    function displayChart(vegaEmbed) {\n",
              "      vegaEmbed(outputDiv, spec, embedOpt)\n",
              "        .catch(err => showError(`Javascript Error: ${err.message}<br>This usually means there's a typo in your chart specification. See the javascript console for the full traceback.`));\n",
              "    }\n",
              "\n",
              "    if(typeof define === \"function\" && define.amd) {\n",
              "      requirejs.config({paths});\n",
              "      require([\"vega-embed\"], displayChart, err => showError(`Error loading script: ${err.message}`));\n",
              "    } else {\n",
              "      maybeLoadScript(\"vega\", \"5\")\n",
              "        .then(() => maybeLoadScript(\"vega-lite\", \"4.17.0\"))\n",
              "        .then(() => maybeLoadScript(\"vega-embed\", \"6\"))\n",
              "        .catch(showError)\n",
              "        .then(() => displayChart(vegaEmbed));\n",
              "    }\n",
              "  })({\"config\": {\"view\": {\"continuousWidth\": 400, \"continuousHeight\": 300}}, \"layer\": [{\"mark\": \"bar\"}, {\"mark\": {\"type\": \"text\", \"align\": \"left\", \"dx\": 2}, \"encoding\": {\"text\": {\"field\": \"num_points\", \"type\": \"quantitative\"}}}], \"data\": {\"name\": \"data-6609342f5a2ff399f6dcee66021ca042\"}, \"encoding\": {\"x\": {\"field\": \"num_points\", \"type\": \"quantitative\", \"title\": \"Number of data points\"}, \"y\": {\"field\": \"category\", \"type\": \"nominal\", \"sort\": null, \"title\": \"Category\"}}, \"height\": 300, \"title\": \"Distribution of the data points for each air quality category\", \"width\": 600, \"$schema\": \"https://vega.github.io/schema/vega-lite/v4.17.0.json\", \"datasets\": {\"data-6609342f5a2ff399f6dcee66021ca042\": [{\"num_points\": 0, \"category\": \"good\"}, {\"num_points\": 492, \"category\": \"fair\"}, {\"num_points\": 283, \"category\": \"moderate\"}, {\"num_points\": 788, \"category\": \"poor\"}, {\"num_points\": 1139, \"category\": \"very poor\"}, {\"num_points\": 9483, \"category\": \"extremely poor\"}]}}, {\"mode\": \"vega-lite\"});\n",
              "</script>"
            ],
            "text/plain": [
              "alt.LayerChart(...)"
            ]
          },
          "execution_count": 7,
          "metadata": {},
          "output_type": "execute_result"
        }
      ],
      "source": [
        "dist_chart(count)"
      ]
    },
    {
      "cell_type": "code",
      "execution_count": null,
      "id": "69ad5321-979e-46c7-b422-4dac331e9f09",
      "metadata": {
        "tags": [],
        "id": "69ad5321-979e-46c7-b422-4dac331e9f09",
        "outputId": "d0c8108f-9a3e-438e-e76b-169c1255e45a"
      },
      "outputs": [
        {
          "name": "stdout",
          "output_type": "stream",
          "text": [
            "[0, 492, 283, 478, 574, 583]\n"
          ]
        }
      ],
      "source": [
        "import random\n",
        "to_keep = []\n",
        "for i in range(y.shape[0]):\n",
        "    if y[i] == 5:\n",
        "        if random.random() < 0.3 / 5.0:\n",
        "            to_keep.append(i)\n",
        "    elif y[i] == 4:\n",
        "        if random.random() < 1 / 2:\n",
        "            to_keep.append(i)\n",
        "    elif y[i] == 3:\n",
        "        if random.random() < 3 / 5:\n",
        "            to_keep.append(i)\n",
        "    # if y[i]:\n",
        "    #     if random.random() < 1.5 / 5.0:\n",
        "    #         to_keep.append(i)\n",
        "    else:\n",
        "        to_keep.append(i)\n",
        "count2 = [0,0,0,0,0,0]\n",
        "for i in y[to_keep]:\n",
        "    count2[int(i)] += 1\n",
        "print(count2)"
      ]
    },
    {
      "cell_type": "code",
      "execution_count": null,
      "id": "aef21ffd-3c0c-4467-a670-2596b1b069bb",
      "metadata": {
        "id": "aef21ffd-3c0c-4467-a670-2596b1b069bb",
        "outputId": "d0c6fd2f-5aec-4286-9a95-fcae4b66b9b7"
      },
      "outputs": [
        {
          "data": {
            "text/html": [
              "\n",
              "<div id=\"altair-viz-c3b5d96c1e2e459ba30ebd27aeb1834a\"></div>\n",
              "<script type=\"text/javascript\">\n",
              "  var VEGA_DEBUG = (typeof VEGA_DEBUG == \"undefined\") ? {} : VEGA_DEBUG;\n",
              "  (function(spec, embedOpt){\n",
              "    let outputDiv = document.currentScript.previousElementSibling;\n",
              "    if (outputDiv.id !== \"altair-viz-c3b5d96c1e2e459ba30ebd27aeb1834a\") {\n",
              "      outputDiv = document.getElementById(\"altair-viz-c3b5d96c1e2e459ba30ebd27aeb1834a\");\n",
              "    }\n",
              "    const paths = {\n",
              "      \"vega\": \"https://cdn.jsdelivr.net/npm//vega@5?noext\",\n",
              "      \"vega-lib\": \"https://cdn.jsdelivr.net/npm//vega-lib?noext\",\n",
              "      \"vega-lite\": \"https://cdn.jsdelivr.net/npm//vega-lite@4.17.0?noext\",\n",
              "      \"vega-embed\": \"https://cdn.jsdelivr.net/npm//vega-embed@6?noext\",\n",
              "    };\n",
              "\n",
              "    function maybeLoadScript(lib, version) {\n",
              "      var key = `${lib.replace(\"-\", \"\")}_version`;\n",
              "      return (VEGA_DEBUG[key] == version) ?\n",
              "        Promise.resolve(paths[lib]) :\n",
              "        new Promise(function(resolve, reject) {\n",
              "          var s = document.createElement('script');\n",
              "          document.getElementsByTagName(\"head\")[0].appendChild(s);\n",
              "          s.async = true;\n",
              "          s.onload = () => {\n",
              "            VEGA_DEBUG[key] = version;\n",
              "            return resolve(paths[lib]);\n",
              "          };\n",
              "          s.onerror = () => reject(`Error loading script: ${paths[lib]}`);\n",
              "          s.src = paths[lib];\n",
              "        });\n",
              "    }\n",
              "\n",
              "    function showError(err) {\n",
              "      outputDiv.innerHTML = `<div class=\"error\" style=\"color:red;\">${err}</div>`;\n",
              "      throw err;\n",
              "    }\n",
              "\n",
              "    function displayChart(vegaEmbed) {\n",
              "      vegaEmbed(outputDiv, spec, embedOpt)\n",
              "        .catch(err => showError(`Javascript Error: ${err.message}<br>This usually means there's a typo in your chart specification. See the javascript console for the full traceback.`));\n",
              "    }\n",
              "\n",
              "    if(typeof define === \"function\" && define.amd) {\n",
              "      requirejs.config({paths});\n",
              "      require([\"vega-embed\"], displayChart, err => showError(`Error loading script: ${err.message}`));\n",
              "    } else {\n",
              "      maybeLoadScript(\"vega\", \"5\")\n",
              "        .then(() => maybeLoadScript(\"vega-lite\", \"4.17.0\"))\n",
              "        .then(() => maybeLoadScript(\"vega-embed\", \"6\"))\n",
              "        .catch(showError)\n",
              "        .then(() => displayChart(vegaEmbed));\n",
              "    }\n",
              "  })({\"config\": {\"view\": {\"continuousWidth\": 400, \"continuousHeight\": 300}}, \"layer\": [{\"mark\": \"bar\"}, {\"mark\": {\"type\": \"text\", \"align\": \"left\", \"dx\": 2}, \"encoding\": {\"text\": {\"field\": \"num_points\", \"type\": \"quantitative\"}}}], \"data\": {\"name\": \"data-7b17014e1ffefcdc3b88e3df0d0ab2c0\"}, \"encoding\": {\"x\": {\"field\": \"num_points\", \"type\": \"quantitative\", \"title\": \"Number of data points\"}, \"y\": {\"field\": \"category\", \"type\": \"nominal\", \"sort\": null, \"title\": \"Category\"}}, \"height\": 300, \"title\": \"Distribution of the data points for each air quality category\", \"width\": 600, \"$schema\": \"https://vega.github.io/schema/vega-lite/v4.17.0.json\", \"datasets\": {\"data-7b17014e1ffefcdc3b88e3df0d0ab2c0\": [{\"num_points\": 0, \"category\": \"good\"}, {\"num_points\": 492, \"category\": \"fair\"}, {\"num_points\": 283, \"category\": \"moderate\"}, {\"num_points\": 478, \"category\": \"poor\"}, {\"num_points\": 574, \"category\": \"very poor\"}, {\"num_points\": 583, \"category\": \"extremely poor\"}]}}, {\"mode\": \"vega-lite\"});\n",
              "</script>"
            ],
            "text/plain": [
              "alt.LayerChart(...)"
            ]
          },
          "execution_count": 9,
          "metadata": {},
          "output_type": "execute_result"
        }
      ],
      "source": [
        "dist_chart(count2)"
      ]
    },
    {
      "cell_type": "code",
      "execution_count": null,
      "id": "c96b00df-0ccb-472e-8575-f977e8e754ea",
      "metadata": {
        "id": "c96b00df-0ccb-472e-8575-f977e8e754ea"
      },
      "outputs": [],
      "source": [
        "# y = X[:, 14]"
      ]
    },
    {
      "cell_type": "code",
      "execution_count": null,
      "id": "d51a8758-450b-47db-bfa3-e48b7a5ae478",
      "metadata": {
        "id": "d51a8758-450b-47db-bfa3-e48b7a5ae478"
      },
      "outputs": [],
      "source": [
        "# import random\n",
        "# X = np.array([[random.random(), random.random(), random.random(), random.random(), random.random(), random.random(), random.random(), i % 10] for i in range(1000)])\n",
        "# y = np.array([i % 10 for i in range(1000)])"
      ]
    },
    {
      "cell_type": "code",
      "execution_count": null,
      "id": "a59298b6-8a34-4640-adaa-ca5ef7288de4",
      "metadata": {
        "id": "a59298b6-8a34-4640-adaa-ca5ef7288de4"
      },
      "outputs": [],
      "source": [
        "# columns = [5, 7, 9, 10, 14, 15, 16, 17]"
      ]
    },
    {
      "cell_type": "code",
      "execution_count": null,
      "id": "c0d883e3-5dd9-4294-807f-6110c7074b54",
      "metadata": {
        "id": "c0d883e3-5dd9-4294-807f-6110c7074b54"
      },
      "outputs": [],
      "source": [
        "X_train, X_test, y_train, y_test = train_test_split(X[to_keep, :], y[to_keep], random_state = 0)"
      ]
    },
    {
      "cell_type": "code",
      "execution_count": null,
      "id": "ae3dbb69-fa93-4ab1-a166-be92badf92d2",
      "metadata": {
        "id": "ae3dbb69-fa93-4ab1-a166-be92badf92d2",
        "outputId": "d443eba9-d41c-412e-99e5-3ece30e93b9a"
      },
      "outputs": [
        {
          "data": {
            "text/plain": [
              "(1807, 8)"
            ]
          },
          "execution_count": 14,
          "metadata": {},
          "output_type": "execute_result"
        }
      ],
      "source": [
        "X_train.shape"
      ]
    },
    {
      "cell_type": "code",
      "execution_count": null,
      "id": "e7434415-f9c1-449e-ae97-c629652652bc",
      "metadata": {
        "id": "e7434415-f9c1-449e-ae97-c629652652bc",
        "outputId": "68f7a966-7a73-4349-8b27-212c48d808f7"
      },
      "outputs": [
        {
          "data": {
            "text/plain": [
              "(603, 8)"
            ]
          },
          "execution_count": 15,
          "metadata": {},
          "output_type": "execute_result"
        }
      ],
      "source": [
        "X_test.shape"
      ]
    },
    {
      "cell_type": "markdown",
      "source": [
        "### Deep Learning Model\n",
        "Using OneVsOneClassifier method, the model achieves about 45.27% foe the accuracy. Though it is better than random prediction (16.67%), we need more relavent data to provide more accurate predictions to forcast the air pollution."
      ],
      "metadata": {
        "id": "1pkGUItOGW2n"
      },
      "id": "1pkGUItOGW2n"
    },
    {
      "cell_type": "code",
      "execution_count": null,
      "id": "6899e5ae-33de-4f66-ad55-6a5e6b3d7335",
      "metadata": {
        "id": "6899e5ae-33de-4f66-ad55-6a5e6b3d7335"
      },
      "outputs": [],
      "source": [
        "model = MLPClassifier(\n",
        "    hidden_layer_sizes=(100, 100, 100),\n",
        "    random_state=1,\n",
        "    max_iter=500,\n",
        ")\n",
        "# model = LinearSVC(random_state=0)"
      ]
    },
    {
      "cell_type": "code",
      "execution_count": null,
      "id": "cbcb1740-9a05-4876-93cf-219b1dda7802",
      "metadata": {
        "tags": [],
        "id": "cbcb1740-9a05-4876-93cf-219b1dda7802"
      },
      "outputs": [],
      "source": [
        "clf = OneVsOneClassifier(model).fit(X_train, y_train)"
      ]
    },
    {
      "cell_type": "code",
      "execution_count": null,
      "id": "9c35ea21-188a-4f5f-bda3-111ea19c5015",
      "metadata": {
        "tags": [],
        "id": "9c35ea21-188a-4f5f-bda3-111ea19c5015",
        "outputId": "5f19e02c-1f8a-4c29-d887-fc027547f60c"
      },
      "outputs": [
        {
          "data": {
            "text/plain": [
              "273"
            ]
          },
          "execution_count": 18,
          "metadata": {},
          "output_type": "execute_result"
        }
      ],
      "source": [
        "sum(clf.predict(X_test) == y_test)"
      ]
    },
    {
      "cell_type": "code",
      "execution_count": null,
      "id": "bd6bb996-b50d-42a1-a183-be40f2205e4b",
      "metadata": {
        "id": "bd6bb996-b50d-42a1-a183-be40f2205e4b",
        "outputId": "f117dfbc-a048-4e4c-d200-af76623ddbd1"
      },
      "outputs": [
        {
          "data": {
            "text/plain": [
              "(603,)"
            ]
          },
          "execution_count": 19,
          "metadata": {},
          "output_type": "execute_result"
        }
      ],
      "source": [
        "y_test.shape"
      ]
    },
    {
      "cell_type": "code",
      "execution_count": null,
      "id": "b4d31ff0-8e30-4b46-9079-05853a4f04cd",
      "metadata": {
        "id": "b4d31ff0-8e30-4b46-9079-05853a4f04cd",
        "outputId": "e1f99811-acf2-47cb-aa17-5353ecf7bdfc"
      },
      "outputs": [
        {
          "data": {
            "text/plain": [
              "1850"
            ]
          },
          "execution_count": 20,
          "metadata": {},
          "output_type": "execute_result"
        }
      ],
      "source": [
        "sum(y_test)"
      ]
    },
    {
      "cell_type": "code",
      "execution_count": null,
      "id": "eb624b8d-fa3b-4587-9860-1bfc441741c7",
      "metadata": {
        "id": "eb624b8d-fa3b-4587-9860-1bfc441741c7"
      },
      "outputs": [],
      "source": [
        "accuracy = clf.score(X_test, y_test)"
      ]
    },
    {
      "cell_type": "code",
      "execution_count": null,
      "id": "c6b5b20d-ac76-40a2-9227-fdf7bc4fb194",
      "metadata": {
        "id": "c6b5b20d-ac76-40a2-9227-fdf7bc4fb194",
        "outputId": "ffe18d76-06d5-4efd-960e-fbd928a58e96"
      },
      "outputs": [
        {
          "data": {
            "text/plain": [
              "0.4527363184079602"
            ]
          },
          "execution_count": 22,
          "metadata": {},
          "output_type": "execute_result"
        }
      ],
      "source": [
        "accuracy"
      ]
    },
    {
      "cell_type": "code",
      "execution_count": null,
      "id": "eda58765-83d6-4f66-85e8-6ffa0ddb4c20",
      "metadata": {
        "id": "eda58765-83d6-4f66-85e8-6ffa0ddb4c20"
      },
      "outputs": [],
      "source": [
        "cm = confusion_matrix(y_test, clf.predict(X_test))"
      ]
    },
    {
      "cell_type": "code",
      "execution_count": null,
      "id": "156c4aef-96df-4afb-8455-84a0f6ffb9a1",
      "metadata": {
        "id": "156c4aef-96df-4afb-8455-84a0f6ffb9a1",
        "outputId": "8011435c-49be-47a6-de45-47e9f313121f"
      },
      "outputs": [
        {
          "data": {
            "text/plain": [
              "array([[59, 28, 21, 18, 19],\n",
              "       [ 8, 29, 15, 10,  3],\n",
              "       [ 6, 13, 59, 36, 10],\n",
              "       [ 5,  5, 28, 74, 30],\n",
              "       [ 9,  9, 17, 40, 52]])"
            ]
          },
          "execution_count": 24,
          "metadata": {},
          "output_type": "execute_result"
        }
      ],
      "source": [
        "cm"
      ]
    },
    {
      "cell_type": "code",
      "execution_count": null,
      "id": "d51d9f85-1096-42d2-89e4-a40ec53a9cce",
      "metadata": {
        "id": "d51d9f85-1096-42d2-89e4-a40ec53a9cce"
      },
      "outputs": [],
      "source": [
        "import pickle"
      ]
    },
    {
      "cell_type": "code",
      "execution_count": null,
      "id": "6a52d0a8-19b1-4134-befa-a1af6997a5b7",
      "metadata": {
        "id": "6a52d0a8-19b1-4134-befa-a1af6997a5b7"
      },
      "outputs": [],
      "source": [
        "with open(\"model.pickle\", \"wb\") as f:\n",
        "    pickle.dump(clf, f)"
      ]
    }
  ],
  "metadata": {
    "kernelspec": {
      "display_name": "Python 3 (ipykernel)",
      "language": "python",
      "name": "python3"
    },
    "language_info": {
      "codemirror_mode": {
        "name": "ipython",
        "version": 3
      },
      "file_extension": ".py",
      "mimetype": "text/x-python",
      "name": "python",
      "nbconvert_exporter": "python",
      "pygments_lexer": "ipython3",
      "version": "3.8.12"
    },
    "colab": {
      "name": "arhus_aqi_classifiction.ipynb",
      "provenance": [],
      "include_colab_link": true
    }
  },
  "nbformat": 4,
  "nbformat_minor": 5
}